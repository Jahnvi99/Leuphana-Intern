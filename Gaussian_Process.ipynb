{
  "nbformat": 4,
  "nbformat_minor": 0,
  "metadata": {
    "colab": {
      "name": "Gaussian_Process.ipynb",
      "provenance": []
    },
    "kernelspec": {
      "name": "python3",
      "display_name": "Python 3"
    },
    "language_info": {
      "name": "python"
    }
  },
  "cells": [
    {
      "cell_type": "code",
      "metadata": {
        "colab": {
          "base_uri": "https://localhost:8080/"
        },
        "id": "XexjKsGwMr1z",
        "outputId": "c510b929-7851-472e-9a84-a666c7111c24"
      },
      "source": [
        "!pip install gpytorch"
      ],
      "execution_count": null,
      "outputs": [
        {
          "output_type": "stream",
          "text": [
            "Collecting gpytorch\n",
            "\u001b[?25l  Downloading https://files.pythonhosted.org/packages/96/6d/07f4c15c1a117f6aa8ae88e23d82681fc6564c80ca18966a2c63af2559ac/gpytorch-1.4.2-py2.py3-none-any.whl (492kB)\n",
            "\r\u001b[K     |▋                               | 10kB 14.1MB/s eta 0:00:01\r\u001b[K     |█▎                              | 20kB 17.0MB/s eta 0:00:01\r\u001b[K     |██                              | 30kB 11.9MB/s eta 0:00:01\r\u001b[K     |██▋                             | 40kB 9.6MB/s eta 0:00:01\r\u001b[K     |███▎                            | 51kB 5.3MB/s eta 0:00:01\r\u001b[K     |████                            | 61kB 5.3MB/s eta 0:00:01\r\u001b[K     |████▋                           | 71kB 5.9MB/s eta 0:00:01\r\u001b[K     |█████▎                          | 81kB 6.4MB/s eta 0:00:01\r\u001b[K     |██████                          | 92kB 6.6MB/s eta 0:00:01\r\u001b[K     |██████▋                         | 102kB 5.0MB/s eta 0:00:01\r\u001b[K     |███████▎                        | 112kB 5.0MB/s eta 0:00:01\r\u001b[K     |████████                        | 122kB 5.0MB/s eta 0:00:01\r\u001b[K     |████████▋                       | 133kB 5.0MB/s eta 0:00:01\r\u001b[K     |█████████▎                      | 143kB 5.0MB/s eta 0:00:01\r\u001b[K     |██████████                      | 153kB 5.0MB/s eta 0:00:01\r\u001b[K     |██████████▋                     | 163kB 5.0MB/s eta 0:00:01\r\u001b[K     |███████████▎                    | 174kB 5.0MB/s eta 0:00:01\r\u001b[K     |████████████                    | 184kB 5.0MB/s eta 0:00:01\r\u001b[K     |████████████▋                   | 194kB 5.0MB/s eta 0:00:01\r\u001b[K     |█████████████▎                  | 204kB 5.0MB/s eta 0:00:01\r\u001b[K     |██████████████                  | 215kB 5.0MB/s eta 0:00:01\r\u001b[K     |██████████████▋                 | 225kB 5.0MB/s eta 0:00:01\r\u001b[K     |███████████████▎                | 235kB 5.0MB/s eta 0:00:01\r\u001b[K     |████████████████                | 245kB 5.0MB/s eta 0:00:01\r\u001b[K     |████████████████▋               | 256kB 5.0MB/s eta 0:00:01\r\u001b[K     |█████████████████▎              | 266kB 5.0MB/s eta 0:00:01\r\u001b[K     |██████████████████              | 276kB 5.0MB/s eta 0:00:01\r\u001b[K     |██████████████████▋             | 286kB 5.0MB/s eta 0:00:01\r\u001b[K     |███████████████████▎            | 296kB 5.0MB/s eta 0:00:01\r\u001b[K     |████████████████████            | 307kB 5.0MB/s eta 0:00:01\r\u001b[K     |████████████████████▋           | 317kB 5.0MB/s eta 0:00:01\r\u001b[K     |█████████████████████▎          | 327kB 5.0MB/s eta 0:00:01\r\u001b[K     |██████████████████████          | 337kB 5.0MB/s eta 0:00:01\r\u001b[K     |██████████████████████▋         | 348kB 5.0MB/s eta 0:00:01\r\u001b[K     |███████████████████████▎        | 358kB 5.0MB/s eta 0:00:01\r\u001b[K     |████████████████████████        | 368kB 5.0MB/s eta 0:00:01\r\u001b[K     |████████████████████████▋       | 378kB 5.0MB/s eta 0:00:01\r\u001b[K     |█████████████████████████▎      | 389kB 5.0MB/s eta 0:00:01\r\u001b[K     |██████████████████████████      | 399kB 5.0MB/s eta 0:00:01\r\u001b[K     |██████████████████████████▋     | 409kB 5.0MB/s eta 0:00:01\r\u001b[K     |███████████████████████████▎    | 419kB 5.0MB/s eta 0:00:01\r\u001b[K     |████████████████████████████    | 430kB 5.0MB/s eta 0:00:01\r\u001b[K     |████████████████████████████▋   | 440kB 5.0MB/s eta 0:00:01\r\u001b[K     |█████████████████████████████▎  | 450kB 5.0MB/s eta 0:00:01\r\u001b[K     |██████████████████████████████  | 460kB 5.0MB/s eta 0:00:01\r\u001b[K     |██████████████████████████████▋ | 471kB 5.0MB/s eta 0:00:01\r\u001b[K     |███████████████████████████████▎| 481kB 5.0MB/s eta 0:00:01\r\u001b[K     |████████████████████████████████| 491kB 5.0MB/s eta 0:00:01\r\u001b[K     |████████████████████████████████| 501kB 5.0MB/s \n",
            "\u001b[?25hRequirement already satisfied: scipy in /usr/local/lib/python3.7/dist-packages (from gpytorch) (1.4.1)\n",
            "Requirement already satisfied: scikit-learn in /usr/local/lib/python3.7/dist-packages (from gpytorch) (0.22.2.post1)\n",
            "Requirement already satisfied: torch>=1.7 in /usr/local/lib/python3.7/dist-packages (from gpytorch) (1.8.1+cu101)\n",
            "Requirement already satisfied: numpy>=1.13.3 in /usr/local/lib/python3.7/dist-packages (from scipy->gpytorch) (1.19.5)\n",
            "Requirement already satisfied: joblib>=0.11 in /usr/local/lib/python3.7/dist-packages (from scikit-learn->gpytorch) (1.0.1)\n",
            "Requirement already satisfied: typing-extensions in /usr/local/lib/python3.7/dist-packages (from torch>=1.7->gpytorch) (3.7.4.3)\n",
            "Installing collected packages: gpytorch\n",
            "Successfully installed gpytorch-1.4.2\n"
          ],
          "name": "stdout"
        }
      ]
    },
    {
      "cell_type": "code",
      "metadata": {
        "id": "qisTflorMicE"
      },
      "source": [
        "import math\n",
        "import torch\n",
        "import gpytorch\n",
        "from matplotlib import pyplot as plt\n",
        "\n",
        "%matplotlib inline\n",
        "%load_ext autoreload\n",
        "%autoreload 2"
      ],
      "execution_count": null,
      "outputs": []
    },
    {
      "cell_type": "code",
      "metadata": {
        "id": "VimK0P0KM8kG"
      },
      "source": [
        "# Training data is 100 points in [0,1] inclusive regularly spaced\n",
        "train_x = torch.linspace(0, 1, 100)\n",
        "# True function is sin(2*pi*x) with Gaussian noise\n",
        "train_y = torch.sin(train_x * (2 * math.pi)) + torch.randn(train_x.size()) * math.sqrt(0.04)"
      ],
      "execution_count": null,
      "outputs": []
    },
    {
      "cell_type": "code",
      "metadata": {
        "id": "IJom2CmBbsiu",
        "colab": {
          "base_uri": "https://localhost:8080/"
        },
        "outputId": "5352822a-3716-49cf-8e94-8a19d92d4be0"
      },
      "source": [
        "train_x.shape"
      ],
      "execution_count": null,
      "outputs": [
        {
          "output_type": "execute_result",
          "data": {
            "text/plain": [
              "torch.Size([100])"
            ]
          },
          "metadata": {
            "tags": []
          },
          "execution_count": 8
        }
      ]
    },
    {
      "cell_type": "code",
      "metadata": {
        "colab": {
          "base_uri": "https://localhost:8080/",
          "height": 264
        },
        "id": "pfRAYdsleBio",
        "outputId": "9fa13bbd-e9e1-4c80-8293-b1356b3d852f"
      },
      "source": [
        "#with noise\n",
        "plt.plot(train_x.numpy(), train_y.numpy())\n",
        "plt.show()"
      ],
      "execution_count": null,
      "outputs": [
        {
          "output_type": "display_data",
          "data": {
            "image/png": "[encoded data removed]",
            "text/plain": [
              "<Figure size 432x288 with 1 Axes>"
            ]
          },
          "metadata": {
            "tags": [],
            "needs_background": "light"
          }
        }
      ]
    },
    {
      "cell_type": "code",
      "metadata": {
        "id": "heyIsxjcNJ8i"
      },
      "source": [
        "# Using the simplest form of GP model, exact inference\n",
        "class ExactGPModel(gpytorch.models.ExactGP):\n",
        "    def __init__(self, train_x, train_y, likelihood):\n",
        "        super(ExactGPModel, self).__init__(train_x, train_y, likelihood)\n",
        "        self.mean_module = gpytorch.means.ConstantMean()\n",
        "        self.covar_module = gpytorch.kernels.ScaleKernel(gpytorch.kernels.RBFKernel())\n",
        "\n",
        "    def forward(self, x):\n",
        "        mean_x = self.mean_module(x)\n",
        "        covar_x = self.covar_module(x)\n",
        "        return gpytorch.distributions.MultivariateNormal(mean_x, covar_x)\n",
        "\n",
        "# initialize likelihood and model\n",
        "likelihood = gpytorch.likelihoods.GaussianLikelihood()\n",
        "model = ExactGPModel(train_x, train_y, likelihood)"
      ],
      "execution_count": null,
      "outputs": []
    },
    {
      "cell_type": "code",
      "metadata": {
        "id": "WG8xo6nweX56"
      },
      "source": [
        "# Get into evaluation (predictive prior) mode\n",
        "model.eval()\n",
        "likelihood.eval()\n",
        "\n",
        "# Test points are regularly spaced along [0,1]\n",
        "# Make predictions by feeding model through likelihood\n",
        "with torch.no_grad(), gpytorch.settings.fast_pred_var():\n",
        "    test_x = torch.linspace(0, 1, 51)\n",
        "    observed_pred = likelihood(model(test_x))\n",
        "\n"
      ],
      "execution_count": null,
      "outputs": []
    },
    {
      "cell_type": "code",
      "metadata": {
        "colab": {
          "base_uri": "https://localhost:8080/"
        },
        "id": "r3XY5j3FaFPo",
        "outputId": "6dd72c48-d341-4c91-c263-68a242e0bd20"
      },
      "source": [
        "test_x.shape"
      ],
      "execution_count": null,
      "outputs": [
        {
          "output_type": "execute_result",
          "data": {
            "text/plain": [
              "torch.Size([51])"
            ]
          },
          "metadata": {
            "tags": []
          },
          "execution_count": 7
        }
      ]
    },
    {
      "cell_type": "code",
      "metadata": {
        "id": "fbMu1ZmGZ4pc"
      },
      "source": [
        "with torch.no_grad():\n",
        "    # Initialize plot\n",
        "    f, ax = plt.subplots(1, 1, figsize=(8, 6))\n",
        "\n",
        "    # Get upper and lower confidence bounds\n",
        "    lower, upper = observed_pred.confidence_region()\n",
        "    # Plot training data as black stars\n",
        "    ax.plot(train_x.numpy(), train_y.numpy(), 'k*')\n",
        "    # Plot predictive means as blue line\n",
        "    ax.plot(test_x.numpy(), observed_pred.mean.numpy(), 'r')\n",
        "    # Shade between the lower and upper confidence bounds\n",
        "    ax.fill_between(test_x.numpy(), lower.numpy(), upper.numpy(), alpha=0.3)\n",
        "    ax.set_ylim([-3, 3])\n",
        "    ax.legend(['Observed Data', 'Mean', 'Confidence'])"
      ],
      "execution_count": null,
      "outputs": []
    },
    {
      "cell_type": "code",
      "metadata": {
        "colab": {
          "base_uri": "https://localhost:8080/"
        },
        "id": "ybmAElmEObGu",
        "outputId": "6710ec36-a146-471e-9e65-5b87febb48d2"
      },
      "source": [
        "training_iter = 50\n",
        "# Find optimal model hyperparameters\n",
        "model.train()\n",
        "likelihood.train()\n",
        "\n",
        "# Use the adam optimizer\n",
        "optimizer = torch.optim.Adam(model.parameters(), lr=0.1)  # Includes GaussianLikelihood parameters\n",
        "\n",
        "# \"Loss\" for GPs - the marginal log likelihood\n",
        "mll = gpytorch.mlls.ExactMarginalLogLikelihood(likelihood, model)\n",
        "\n",
        "for i in range(training_iter):\n",
        "    # Zero gradients from previous iteration\n",
        "    optimizer.zero_grad()\n",
        "    # Output from model\n",
        "    output = model(train_x)\n",
        "    # Calc loss and backprop gradients\n",
        "    loss = -mll(output, train_y)\n",
        "    loss.backward()\n",
        "    print('Iter %d/%d - Loss: %.3f   lengthscale: %.3f   noise: %.3f' % (\n",
        "        i + 1, training_iter, loss.item(),\n",
        "        model.covar_module.base_kernel.lengthscale.item(),\n",
        "        model.likelihood.noise.item()\n",
        "    ))\n",
        "    optimizer.step()"
      ],
      "execution_count": null,
      "outputs": [
        {
          "output_type": "stream",
          "text": [
            "Iter 1/50 - Loss: 0.937   lengthscale: 0.693   noise: 0.693\n",
            "Iter 2/50 - Loss: 0.905   lengthscale: 0.644   noise: 0.644\n",
            "Iter 3/50 - Loss: 0.871   lengthscale: 0.598   noise: 0.598\n",
            "Iter 4/50 - Loss: 0.833   lengthscale: 0.555   noise: 0.554\n",
            "Iter 5/50 - Loss: 0.790   lengthscale: 0.514   noise: 0.513\n",
            "Iter 6/50 - Loss: 0.743   lengthscale: 0.475   noise: 0.474\n",
            "Iter 7/50 - Loss: 0.691   lengthscale: 0.439   noise: 0.437\n",
            "Iter 8/50 - Loss: 0.639   lengthscale: 0.404   noise: 0.402\n",
            "Iter 9/50 - Loss: 0.589   lengthscale: 0.372   noise: 0.369\n",
            "Iter 10/50 - Loss: 0.543   lengthscale: 0.342   noise: 0.339\n",
            "Iter 11/50 - Loss: 0.501   lengthscale: 0.315   noise: 0.310\n",
            "Iter 12/50 - Loss: 0.462   lengthscale: 0.291   noise: 0.284\n",
            "Iter 13/50 - Loss: 0.426   lengthscale: 0.271   noise: 0.259\n",
            "Iter 14/50 - Loss: 0.391   lengthscale: 0.255   noise: 0.236\n",
            "Iter 15/50 - Loss: 0.357   lengthscale: 0.241   noise: 0.215\n",
            "Iter 16/50 - Loss: 0.323   lengthscale: 0.231   noise: 0.196\n",
            "Iter 17/50 - Loss: 0.290   lengthscale: 0.223   noise: 0.178\n",
            "Iter 18/50 - Loss: 0.256   lengthscale: 0.218   noise: 0.162\n",
            "Iter 19/50 - Loss: 0.223   lengthscale: 0.214   noise: 0.147\n",
            "Iter 20/50 - Loss: 0.190   lengthscale: 0.213   noise: 0.134\n",
            "Iter 21/50 - Loss: 0.158   lengthscale: 0.213   noise: 0.122\n",
            "Iter 22/50 - Loss: 0.127   lengthscale: 0.215   noise: 0.111\n",
            "Iter 23/50 - Loss: 0.096   lengthscale: 0.218   noise: 0.100\n",
            "Iter 24/50 - Loss: 0.067   lengthscale: 0.222   noise: 0.091\n",
            "Iter 25/50 - Loss: 0.039   lengthscale: 0.227   noise: 0.083\n",
            "Iter 26/50 - Loss: 0.013   lengthscale: 0.234   noise: 0.076\n",
            "Iter 27/50 - Loss: -0.010   lengthscale: 0.241   noise: 0.069\n",
            "Iter 28/50 - Loss: -0.031   lengthscale: 0.250   noise: 0.063\n",
            "Iter 29/50 - Loss: -0.049   lengthscale: 0.259   noise: 0.058\n",
            "Iter 30/50 - Loss: -0.064   lengthscale: 0.268   noise: 0.053\n",
            "Iter 31/50 - Loss: -0.075   lengthscale: 0.277   noise: 0.049\n",
            "Iter 32/50 - Loss: -0.083   lengthscale: 0.286   noise: 0.045\n",
            "Iter 33/50 - Loss: -0.088   lengthscale: 0.294   noise: 0.042\n",
            "Iter 34/50 - Loss: -0.090   lengthscale: 0.301   noise: 0.039\n",
            "Iter 35/50 - Loss: -0.089   lengthscale: 0.306   noise: 0.037\n",
            "Iter 36/50 - Loss: -0.087   lengthscale: 0.308   noise: 0.035\n",
            "Iter 37/50 - Loss: -0.084   lengthscale: 0.308   noise: 0.033\n",
            "Iter 38/50 - Loss: -0.082   lengthscale: 0.305   noise: 0.031\n",
            "Iter 39/50 - Loss: -0.079   lengthscale: 0.300   noise: 0.030\n",
            "Iter 40/50 - Loss: -0.076   lengthscale: 0.294   noise: 0.029\n",
            "Iter 41/50 - Loss: -0.074   lengthscale: 0.288   noise: 0.029\n",
            "Iter 42/50 - Loss: -0.072   lengthscale: 0.281   noise: 0.028\n",
            "Iter 43/50 - Loss: -0.071   lengthscale: 0.274   noise: 0.028\n",
            "Iter 44/50 - Loss: -0.071   lengthscale: 0.269   noise: 0.028\n",
            "Iter 45/50 - Loss: -0.071   lengthscale: 0.264   noise: 0.028\n",
            "Iter 46/50 - Loss: -0.073   lengthscale: 0.260   noise: 0.028\n",
            "Iter 47/50 - Loss: -0.074   lengthscale: 0.257   noise: 0.029\n",
            "Iter 48/50 - Loss: -0.077   lengthscale: 0.255   noise: 0.029\n",
            "Iter 49/50 - Loss: -0.079   lengthscale: 0.254   noise: 0.030\n",
            "Iter 50/50 - Loss: -0.082   lengthscale: 0.253   noise: 0.031\n"
          ],
          "name": "stdout"
        }
      ]
    },
    {
      "cell_type": "code",
      "metadata": {
        "id": "B0zUkyd8P1Do"
      },
      "source": [
        "# Get into evaluation (predictive posterior) mode\n",
        "model.eval()\n",
        "likelihood.eval()\n",
        "\n",
        "# Test points are regularly spaced along [0,1]\n",
        "# Make predictions by feeding model through likelihood\n",
        "with torch.no_grad(), gpytorch.settings.fast_pred_var():\n",
        "    test_x = torch.linspace(0, 1, 51)\n",
        "    observed_pred = likelihood(model(test_x))"
      ],
      "execution_count": null,
      "outputs": []
    },
    {
      "cell_type": "code",
      "metadata": {
        "colab": {
          "base_uri": "https://localhost:8080/",
          "height": 268
        },
        "id": "Gs53nXUuQPXP",
        "outputId": "c8aef4df-9a38-484a-c276-10ad59989b63"
      },
      "source": [
        "with torch.no_grad():\n",
        "    # Initialize plot\n",
        "    f, ax = plt.subplots(1, 1)\n",
        "\n",
        "    # Get upper and lower confidence bounds\n",
        "    lower, upper = observed_pred.confidence_region()\n",
        "    # Plot training data as black stars\n",
        "    ax.plot(train_x.numpy(), train_y.numpy(), 'k*')\n",
        "    # Plot predictive means as blue line\n",
        "    ax.plot(test_x.numpy(), observed_pred.mean.numpy(), 'b')\n",
        "    # Shade between the lower and upper confidence bounds\n",
        "    ax.fill_between(test_x.numpy(), lower.numpy(), upper.numpy(), alpha=0.5)\n",
        "    ax.set_ylim([-3, 3])\n",
        "    ax.legend(['Observed Data', 'Mean', 'Confidence'])"
      ],
      "execution_count": null,
      "outputs": [
        {
          "output_type": "display_data",
          "data": {
            "image/png": "[encoded data removed]",
            "text/plain": [
              "<Figure size 432x288 with 1 Axes>"
            ]
          },
          "metadata": {
            "tags": [],
            "needs_background": "light"
          }
        }
      ]
    },
    {
      "cell_type": "code",
      "metadata": {
        "id": "8L7POXAiQfU6"
      },
      "source": [
        ""
      ],
      "execution_count": null,
      "outputs": []
    }
  ]
}